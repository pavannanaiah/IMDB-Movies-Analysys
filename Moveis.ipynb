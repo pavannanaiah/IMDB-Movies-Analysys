{
  "nbformat": 4,
  "nbformat_minor": 0,
  "metadata": {
    "colab": {
      "provenance": [],
      "include_colab_link": true
    },
    "kernelspec": {
      "name": "python3",
      "display_name": "Python 3"
    },
    "language_info": {
      "name": "python"
    }
  },
  "cells": [
    {
      "cell_type": "markdown",
      "metadata": {
        "id": "view-in-github",
        "colab_type": "text"
      },
      "source": [
        "<a href=\"https://colab.research.google.com/github/pavannanaiah/movies/blob/main/Moveis.ipynb\" target=\"_parent\"><img src=\"https://colab.research.google.com/assets/colab-badge.svg\" alt=\"Open In Colab\"/></a>"
      ]
    },
    {
      "cell_type": "markdown",
      "source": [
        "Data Collection\n"
      ],
      "metadata": {
        "id": "jJA4pWHPV0JG"
      }
    },
    {
      "cell_type": "code",
      "source": [
        "import requests\n",
        "from bs4 import BeautifulSoup\n",
        "import pandas as pd\n",
        "from numpy import NAN\n",
        "\n"
      ],
      "metadata": {
        "id": "ZskRN1KjdhsL"
      },
      "execution_count": 2,
      "outputs": []
    },
    {
      "cell_type": "code",
      "source": [
        "# Basic Data Collection\n",
        "\n",
        "def imdb_bacic_movie_data(start_fetch,number_of_records_per_search,start_last_page,number_of_votes):\n",
        "\n",
        "  # start_fetch = 1\n",
        "  # number_of_records_per_search = 50\n",
        "  # start_last_page = 201\n",
        "  # number_of_votes = 70\n",
        "\n",
        "  movie_data = pd.DataFrame()\n",
        "  movie_data_subset = pd.DataFrame()\n",
        "\n",
        "  while start_fetch <= start_last_page:\n",
        "\n",
        "    url = \"https://www.imdb.com/search/title/?title_type=feature&release_date=2021-01-01,2023-09-30&num_votes=\"+str(number_of_votes)+\",&count=\"+str(number_of_records_per_search)+\"&start=\" +str(start_fetch)+\"&ref_=adv_nxt\"\n",
        "    #print (url)\n",
        "    response = requests.get(url)\n",
        "\n",
        "    if response.status_code == 200:\n",
        "        soup = BeautifulSoup(response.text, 'html.parser')\n",
        "\n",
        "        movie_headers = soup.find_all('div', class_='lister-item mode-advanced')\n",
        "\n",
        "        movie_ids = []\n",
        "        movie_names = []\n",
        "        movie_genres = []\n",
        "        movie_years = []\n",
        "        movie_ratings = []\n",
        "        movie_durations = []\n",
        "        movie_votes = []\n",
        "\n",
        "        for header in movie_headers:\n",
        "\n",
        "            href = header.find('a')['href']\n",
        "            movie_id = href.split('/')[2] if href.startswith('/title/') else ''\n",
        "\n",
        "            movie_name = header.find('h3', class_='lister-item-header').find('a').text.strip()\n",
        "            if (header.find('p', class_='text-muted').find('span', class_='genre') !=None):\n",
        "                movie_genre = header.find('p', class_='text-muted').find('span', class_='genre').text.strip()\n",
        "            else:\n",
        "                movie_genre =\" \"\n",
        "            movie_year = header.find('span', class_='lister-item-year').text.strip('()')\n",
        "\n",
        "            rating_text = header.find('div', class_=\"inline-block ratings-imdb-rating\", attrs={\"name\":\"ir\"})\n",
        "\n",
        "            rating_div = header.find('div', class_='ratings-imdb-rating')\n",
        "            #print(rating_div)\n",
        "\n",
        "            if (header.find('p', class_='text-muted').find('span', class_='runtime') !=None):\n",
        "                movie_duration = header.find('p', class_='text-muted').find('span', class_='runtime').text.strip()\n",
        "            else:\n",
        "                    movie_duration =\" \"\n",
        "\n",
        "            vote_text = header.find('span', attrs={\"name\":\"nv\"})\n",
        "            movie_vote = vote_text['data-value'] if vote_text else ''\n",
        "\n",
        "            movie_ids.append(movie_id)\n",
        "            movie_names.append(movie_name)\n",
        "            movie_genres.append(movie_genre)\n",
        "            movie_years.append(movie_year)\n",
        "            movie_ratings.append(movie_rating)\n",
        "            movie_durations.append(movie_duration)\n",
        "            movie_votes.append(movie_vote)\n",
        "\n",
        "\n",
        "        movie_data_subset = pd.DataFrame({'Movie ID':movie_ids,'Movie Name': movie_names,\n",
        "                                  'Movie Genre': movie_genres, 'Movie Year': movie_years,\n",
        "                                  'Movie Rating':movie_ratings,'Movie Duration': movie_durations,\n",
        "                                  'Movie Votes': movie_votes})\n",
        "        movie_data = pd.concat([movie_data, movie_data_subset], ignore_index=True)\n",
        "        #print(movie_data)\n",
        "    else:\n",
        "      movie_data = None\n",
        "\n",
        "    start_fetch += number_of_records_per_search\n",
        "\n",
        "  return movie_data"
      ],
      "metadata": {
        "id": "X4gOCQtD6xci"
      },
      "execution_count": 3,
      "outputs": []
    },
    {
      "cell_type": "code",
      "source": [
        "\n",
        "# Collect Budget , Revenue Data and Language\n",
        "def imdb_extended_movie_data(movie_data):\n",
        "  movie_languages = []\n",
        "  movie_revenues = []\n",
        "  movie_budgets = []\n",
        "\n",
        "\n",
        "  for index, movie in movie_data.iterrows():\n",
        "    url = \"https://www.imdb.com/title/\" + movie[\"Movie ID\"]\n",
        "    #print(url)\n",
        "\n",
        "    HEADERS = {'User-Agent': 'Mozilla/5.0 (iPad; CPU OS 12_2 like Mac OS X) AppleWebKit/605.1.15 (KHTML, like Gecko) Mobile/15E148'}\n",
        "\n",
        "    response = requests.get(url, headers= HEADERS)\n",
        "\n",
        "    if response.status_code == 200:\n",
        "      soup = BeautifulSoup(response.text, 'html.parser')\n",
        "\n",
        "      money_element = soup.find(\"div\", {\"data-testid\": \"title-boxoffice-section\"})\n",
        "      languages = soup.find(\"li\", {\"data-testid\": \"title-details-languages\"})\n",
        "      #print (languages)\n",
        "      if (money_element != None):\n",
        "        #For budget\n",
        "        if money_element.find(\"li\", {\"data-testid\": \"title-boxoffice-budget\"}) != None:\n",
        "          budget = money_element.find(\"li\", {\"data-testid\": \"title-boxoffice-budget\"}).text.strip()\n",
        "        else:\n",
        "          budget = \" \"\n",
        "        #print(budget)\n",
        "\n",
        "      #For revenue\n",
        "        if money_element.find(\"li\", {\"data-testid\": \"title-boxoffice-cumulativeworldwidegross\"}) != None:\n",
        "          revenue =  money_element.find(\"li\", {\"data-testid\": \"title-boxoffice-cumulativeworldwidegross\"}).text.strip()\n",
        "        else:\n",
        "          revenue = \" \"\n",
        "\n",
        "        #For langauges\n",
        "        if languages != None:\n",
        "            language_links = languages.find_all(\"a\", {\"class\": \"ipc-metadata-list-item__list-content-item--link\"})\n",
        "            languages = ', '.join([link.text.strip() for link in language_links])\n",
        "        else:\n",
        "            language_links = \" \"\n",
        "\n",
        "\n",
        "        movie_budget = budget\n",
        "        movie_revenue = revenue\n",
        "        movie_language = languages\n",
        "      else:\n",
        "        movie_budget = \" \"\n",
        "        movie_revenue = \" \"\n",
        "\n",
        "      movie_budgets.append(movie_budget.replace(\"Budget\",\"\").replace(\" (estimated)\",\"\").replace(\"$\",\"\"))\n",
        "      movie_revenues.append(movie_revenue.replace(\"Gross worldwide\",\"\").replace(\"$\",\"\"))\n",
        "      movie_languages.append(languages)\n",
        "\n",
        "    else:\n",
        "      movie_budgets.append(\" \")\n",
        "      movie_revenues.append(\" \")\n",
        "      movie_languages.append(\" \")\n",
        "\n",
        "\n",
        "  movie_data['Movie Budget'] = movie_budgets\n",
        "  movie_data['Movie Revenue'] = movie_revenues\n",
        "  movie_data['Movie Languages'] = movie_languages\n",
        "\n",
        "  return movie_data\n",
        "\n"
      ],
      "metadata": {
        "id": "ghwa9rJcNVDX"
      },
      "execution_count": 4,
      "outputs": []
    },
    {
      "cell_type": "code",
      "source": [
        "#movie_data = imdb_bacic_movie_data(1,250,9751,70)\n",
        "\n",
        "movie_data.loc[movie_data['Movie ID']=='tt19372610']\n",
        "#movie_data.to_csv('BasicMovieData.csv')\n",
        "\n",
        "# movie_data_extended = imdb_extended_movie_data(movie_data)\n",
        "\n",
        "# movie_data_extended.head()"
      ],
      "metadata": {
        "colab": {
          "base_uri": "https://localhost:8080/",
          "height": 512
        },
        "id": "Dn1LgrcJolVS",
        "outputId": "3bb48376-7533-4301-96f3-0d5e009d928d"
      },
      "execution_count": 16,
      "outputs": [
        {
          "output_type": "error",
          "ename": "KeyError",
          "evalue": "ignored",
          "traceback": [
            "\u001b[0;31m---------------------------------------------------------------------------\u001b[0m",
            "\u001b[0;31mKeyError\u001b[0m                                  Traceback (most recent call last)",
            "\u001b[0;32m/usr/local/lib/python3.10/dist-packages/pandas/core/indexes/base.py\u001b[0m in \u001b[0;36mget_loc\u001b[0;34m(self, key, method, tolerance)\u001b[0m\n\u001b[1;32m   3801\u001b[0m             \u001b[0;32mtry\u001b[0m\u001b[0;34m:\u001b[0m\u001b[0;34m\u001b[0m\u001b[0;34m\u001b[0m\u001b[0m\n\u001b[0;32m-> 3802\u001b[0;31m                 \u001b[0;32mreturn\u001b[0m \u001b[0mself\u001b[0m\u001b[0;34m.\u001b[0m\u001b[0m_engine\u001b[0m\u001b[0;34m.\u001b[0m\u001b[0mget_loc\u001b[0m\u001b[0;34m(\u001b[0m\u001b[0mcasted_key\u001b[0m\u001b[0;34m)\u001b[0m\u001b[0;34m\u001b[0m\u001b[0;34m\u001b[0m\u001b[0m\n\u001b[0m\u001b[1;32m   3803\u001b[0m             \u001b[0;32mexcept\u001b[0m \u001b[0mKeyError\u001b[0m \u001b[0;32mas\u001b[0m \u001b[0merr\u001b[0m\u001b[0;34m:\u001b[0m\u001b[0;34m\u001b[0m\u001b[0;34m\u001b[0m\u001b[0m\n",
            "\u001b[0;32m/usr/local/lib/python3.10/dist-packages/pandas/_libs/index.pyx\u001b[0m in \u001b[0;36mpandas._libs.index.IndexEngine.get_loc\u001b[0;34m()\u001b[0m\n",
            "\u001b[0;32m/usr/local/lib/python3.10/dist-packages/pandas/_libs/index.pyx\u001b[0m in \u001b[0;36mpandas._libs.index.IndexEngine.get_loc\u001b[0;34m()\u001b[0m\n",
            "\u001b[0;32mpandas/_libs/hashtable_class_helper.pxi\u001b[0m in \u001b[0;36mpandas._libs.hashtable.PyObjectHashTable.get_item\u001b[0;34m()\u001b[0m\n",
            "\u001b[0;32mpandas/_libs/hashtable_class_helper.pxi\u001b[0m in \u001b[0;36mpandas._libs.hashtable.PyObjectHashTable.get_item\u001b[0;34m()\u001b[0m\n",
            "\u001b[0;31mKeyError\u001b[0m: 'Movie ID'",
            "\nThe above exception was the direct cause of the following exception:\n",
            "\u001b[0;31mKeyError\u001b[0m                                  Traceback (most recent call last)",
            "\u001b[0;32m<ipython-input-16-e6f656f91eb5>\u001b[0m in \u001b[0;36m<cell line: 3>\u001b[0;34m()\u001b[0m\n\u001b[1;32m      1\u001b[0m \u001b[0;31m#movie_data = imdb_bacic_movie_data(1,250,9751,70)\u001b[0m\u001b[0;34m\u001b[0m\u001b[0;34m\u001b[0m\u001b[0m\n\u001b[1;32m      2\u001b[0m \u001b[0;34m\u001b[0m\u001b[0m\n\u001b[0;32m----> 3\u001b[0;31m \u001b[0mmovie_data\u001b[0m\u001b[0;34m.\u001b[0m\u001b[0mloc\u001b[0m\u001b[0;34m[\u001b[0m\u001b[0mmovie_data\u001b[0m\u001b[0;34m[\u001b[0m\u001b[0;34m'Movie ID'\u001b[0m\u001b[0;34m]\u001b[0m\u001b[0;34m==\u001b[0m\u001b[0;34m'tt19372610'\u001b[0m\u001b[0;34m]\u001b[0m\u001b[0;34m\u001b[0m\u001b[0;34m\u001b[0m\u001b[0m\n\u001b[0m\u001b[1;32m      4\u001b[0m \u001b[0;31m#movie_data.to_csv('BasicMovieData.csv')\u001b[0m\u001b[0;34m\u001b[0m\u001b[0;34m\u001b[0m\u001b[0m\n\u001b[1;32m      5\u001b[0m \u001b[0;34m\u001b[0m\u001b[0m\n",
            "\u001b[0;32m/usr/local/lib/python3.10/dist-packages/pandas/core/frame.py\u001b[0m in \u001b[0;36m__getitem__\u001b[0;34m(self, key)\u001b[0m\n\u001b[1;32m   3805\u001b[0m             \u001b[0;32mif\u001b[0m \u001b[0mself\u001b[0m\u001b[0;34m.\u001b[0m\u001b[0mcolumns\u001b[0m\u001b[0;34m.\u001b[0m\u001b[0mnlevels\u001b[0m \u001b[0;34m>\u001b[0m \u001b[0;36m1\u001b[0m\u001b[0;34m:\u001b[0m\u001b[0;34m\u001b[0m\u001b[0;34m\u001b[0m\u001b[0m\n\u001b[1;32m   3806\u001b[0m                 \u001b[0;32mreturn\u001b[0m \u001b[0mself\u001b[0m\u001b[0;34m.\u001b[0m\u001b[0m_getitem_multilevel\u001b[0m\u001b[0;34m(\u001b[0m\u001b[0mkey\u001b[0m\u001b[0;34m)\u001b[0m\u001b[0;34m\u001b[0m\u001b[0;34m\u001b[0m\u001b[0m\n\u001b[0;32m-> 3807\u001b[0;31m             \u001b[0mindexer\u001b[0m \u001b[0;34m=\u001b[0m \u001b[0mself\u001b[0m\u001b[0;34m.\u001b[0m\u001b[0mcolumns\u001b[0m\u001b[0;34m.\u001b[0m\u001b[0mget_loc\u001b[0m\u001b[0;34m(\u001b[0m\u001b[0mkey\u001b[0m\u001b[0;34m)\u001b[0m\u001b[0;34m\u001b[0m\u001b[0;34m\u001b[0m\u001b[0m\n\u001b[0m\u001b[1;32m   3808\u001b[0m             \u001b[0;32mif\u001b[0m \u001b[0mis_integer\u001b[0m\u001b[0;34m(\u001b[0m\u001b[0mindexer\u001b[0m\u001b[0;34m)\u001b[0m\u001b[0;34m:\u001b[0m\u001b[0;34m\u001b[0m\u001b[0;34m\u001b[0m\u001b[0m\n\u001b[1;32m   3809\u001b[0m                 \u001b[0mindexer\u001b[0m \u001b[0;34m=\u001b[0m \u001b[0;34m[\u001b[0m\u001b[0mindexer\u001b[0m\u001b[0;34m]\u001b[0m\u001b[0;34m\u001b[0m\u001b[0;34m\u001b[0m\u001b[0m\n",
            "\u001b[0;32m/usr/local/lib/python3.10/dist-packages/pandas/core/indexes/base.py\u001b[0m in \u001b[0;36mget_loc\u001b[0;34m(self, key, method, tolerance)\u001b[0m\n\u001b[1;32m   3802\u001b[0m                 \u001b[0;32mreturn\u001b[0m \u001b[0mself\u001b[0m\u001b[0;34m.\u001b[0m\u001b[0m_engine\u001b[0m\u001b[0;34m.\u001b[0m\u001b[0mget_loc\u001b[0m\u001b[0;34m(\u001b[0m\u001b[0mcasted_key\u001b[0m\u001b[0;34m)\u001b[0m\u001b[0;34m\u001b[0m\u001b[0;34m\u001b[0m\u001b[0m\n\u001b[1;32m   3803\u001b[0m             \u001b[0;32mexcept\u001b[0m \u001b[0mKeyError\u001b[0m \u001b[0;32mas\u001b[0m \u001b[0merr\u001b[0m\u001b[0;34m:\u001b[0m\u001b[0;34m\u001b[0m\u001b[0;34m\u001b[0m\u001b[0m\n\u001b[0;32m-> 3804\u001b[0;31m                 \u001b[0;32mraise\u001b[0m \u001b[0mKeyError\u001b[0m\u001b[0;34m(\u001b[0m\u001b[0mkey\u001b[0m\u001b[0;34m)\u001b[0m \u001b[0;32mfrom\u001b[0m \u001b[0merr\u001b[0m\u001b[0;34m\u001b[0m\u001b[0;34m\u001b[0m\u001b[0m\n\u001b[0m\u001b[1;32m   3805\u001b[0m             \u001b[0;32mexcept\u001b[0m \u001b[0mTypeError\u001b[0m\u001b[0;34m:\u001b[0m\u001b[0;34m\u001b[0m\u001b[0;34m\u001b[0m\u001b[0m\n\u001b[1;32m   3806\u001b[0m                 \u001b[0;31m# If we have a listlike key, _check_indexing_error will raise\u001b[0m\u001b[0;34m\u001b[0m\u001b[0;34m\u001b[0m\u001b[0m\n",
            "\u001b[0;31mKeyError\u001b[0m: 'Movie ID'"
          ]
        }
      ]
    },
    {
      "cell_type": "code",
      "source": [
        "movie_languages = []\n",
        "movie_revenues = []\n",
        "movie_budgets = []\n",
        "movie_data = pd.DataFrame()\n",
        "url = \"https://www.imdb.com/title/tt13272544\"\n",
        "print(url)\n",
        "\n",
        "HEADERS = {'User-Agent': 'Mozilla/5.0 (iPad; CPU OS 12_2 like Mac OS X) AppleWebKit/605.1.15 (KHTML, like Gecko) Mobile/15E148'}\n",
        "\n",
        "response = requests.get(url, headers= HEADERS)\n",
        "\n",
        "if response.status_code == 200:\n",
        "    soup = BeautifulSoup(response.text, 'html.parser')\n",
        "    money_element = soup.find(\"div\", {\"data-testid\": \"title-boxoffice-section\"})\n",
        "    languages = soup.find(\"li\", {\"data-testid\": \"title-details-languages\"})\n",
        "    #print (languages)\n",
        "    if (money_element != None):\n",
        "        #For budget\n",
        "        if money_element.find(\"li\", {\"data-testid\": \"title-boxoffice-budget\"}) != None:\n",
        "            budget = money_element.find(\"li\", {\"data-testid\": \"title-boxoffice-budget\"}).text.strip()\n",
        "        else:\n",
        "            budget = \" \"\n",
        "        #print(budget)\n",
        "\n",
        "      #For revenue\n",
        "        if money_element.find(\"li\", {\"data-testid\": \"title-boxoffice-cumulativeworldwidegross\"}) != None:\n",
        "            revenue =  money_element.find(\"li\", {\"data-testid\": \"title-boxoffice-cumulativeworldwidegross\"}).text.strip()\n",
        "        else:\n",
        "            revenue = \" \"\n",
        "\n",
        "        #For langauges\n",
        "        if languages != None:\n",
        "            language_links = languages.find_all(\"a\", {\"class\": \"ipc-metadata-list-item__list-content-item--link\"})\n",
        "            languages = ', '.join([link.text.strip() for link in language_links])\n",
        "        else:\n",
        "            language_links = \" \"\n",
        "\n",
        "        movie_budget = budget\n",
        "        movie_revenue = revenue\n",
        "        movie_language = languages\n",
        "    else:\n",
        "        movie_budget = \" \"\n",
        "        movie_revenue = \" \"\n",
        "    movie_budgets.append(movie_budget.replace(\"Budget\",\"\").replace(\" (estimated)\",\"\").replace(\"$\",\"\"))\n",
        "    movie_revenues.append(movie_revenue.replace(\"Gross worldwide\",\"\").replace(\"$\",\"\"))\n",
        "    movie_languages.append(languages)\n",
        "\n",
        "else:\n",
        "    movie_budgets.append(\" \")\n",
        "    movie_revenues.append(\" \")\n",
        "    movie_languages.append(\" \")\n",
        "\n",
        "\n",
        "movie_data['Movie Budget'] = movie_budgets\n",
        "movie_data['Movie Revenue'] = movie_revenues\n",
        "movie_data['Movie Languages'] = movie_languages\n",
        "\n",
        "print (movie_data)"
      ],
      "metadata": {
        "colab": {
          "base_uri": "https://localhost:8080/"
        },
        "id": "ibDHRYX3EfLa",
        "outputId": "76dfa77e-7ed1-4b60-802c-ee5f6913b59e"
      },
      "execution_count": 17,
      "outputs": [
        {
          "output_type": "stream",
          "name": "stdout",
          "text": [
            "https://www.imdb.com/title/tt13272544\n",
            "  Movie Budget Movie Revenue  \\\n",
            "0                              \n",
            "\n",
            "                                     Movie Languages  \n",
            "0  [[Language], [[<li class=\"ipc-inline-list__ite...  \n"
          ]
        }
      ]
    }
  ]
}